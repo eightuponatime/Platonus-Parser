{
  "nbformat": 4,
  "nbformat_minor": 0,
  "metadata": {
    "colab": {
      "provenance": [],
      "gpuType": "T4",
      "authorship_tag": "ABX9TyPgIGaWOiGmeu2c4PKWVDZV",
      "include_colab_link": true
    },
    "kernelspec": {
      "name": "python3",
      "display_name": "Python 3"
    },
    "language_info": {
      "name": "python"
    },
    "accelerator": "GPU"
  },
  "cells": [
    {
      "cell_type": "markdown",
      "metadata": {
        "id": "view-in-github",
        "colab_type": "text"
      },
      "source": [
        "<a href=\"https://colab.research.google.com/github/eightuponatime/Platonus-Parser/blob/main/bleurt.ipynb\" target=\"_parent\"><img src=\"https://colab.research.google.com/assets/colab-badge.svg\" alt=\"Open In Colab\"/></a>"
      ]
    },
    {
      "cell_type": "markdown",
      "source": [
        "**клонирование репозитория**"
      ],
      "metadata": {
        "id": "9eLWERWf-d64"
      }
    },
    {
      "cell_type": "code",
      "execution_count": null,
      "metadata": {
        "colab": {
          "base_uri": "https://localhost:8080/"
        },
        "id": "JVqyywBPip0g",
        "outputId": "305e0930-7f25-424a-9f07-34c259a9695c"
      },
      "outputs": [
        {
          "output_type": "stream",
          "name": "stdout",
          "text": [
            "Cloning into 'bleurt'...\n",
            "remote: Enumerating objects: 134, done.\u001b[K\n",
            "remote: Counting objects: 100% (18/18), done.\u001b[K\n",
            "remote: Compressing objects: 100% (18/18), done.\u001b[K\n",
            "remote: Total 134 (delta 0), reused 17 (delta 0), pack-reused 116\u001b[K\n",
            "Receiving objects: 100% (134/134), 31.28 MiB | 24.90 MiB/s, done.\n",
            "Resolving deltas: 100% (49/49), done.\n"
          ]
        }
      ],
      "source": [
        "!git clone https://github.com/google-research/bleurt.git"
      ]
    },
    {
      "cell_type": "markdown",
      "source": [
        "**переход в папку установщика**"
      ],
      "metadata": {
        "id": "Zyo_odx1-jFj"
      }
    },
    {
      "cell_type": "code",
      "source": [
        "%cd bleurt"
      ],
      "metadata": {
        "colab": {
          "base_uri": "https://localhost:8080/"
        },
        "id": "LsHo5Nu9i5mr",
        "outputId": "535f0b30-033a-4f00-95f3-f70690686efe"
      },
      "execution_count": null,
      "outputs": [
        {
          "output_type": "stream",
          "name": "stdout",
          "text": [
            "/content/bleurt\n"
          ]
        }
      ]
    },
    {
      "cell_type": "markdown",
      "source": [
        "**вызов setup.py**"
      ],
      "metadata": {
        "id": "mqZw3cpH-rIc"
      }
    },
    {
      "cell_type": "code",
      "source": [
        "!pip install ."
      ],
      "metadata": {
        "colab": {
          "base_uri": "https://localhost:8080/"
        },
        "id": "P3uygqeti9QX",
        "outputId": "46b014ed-b455-4989-81be-d51b77cbca8f"
      },
      "execution_count": null,
      "outputs": [
        {
          "output_type": "stream",
          "name": "stdout",
          "text": [
            "Processing /content/bleurt\n",
            "  Preparing metadata (setup.py) ... \u001b[?25l\u001b[?25hdone\n",
            "Requirement already satisfied: pandas in /usr/local/lib/python3.10/dist-packages (from BLEURT==0.0.2) (2.0.3)\n",
            "Requirement already satisfied: numpy in /usr/local/lib/python3.10/dist-packages (from BLEURT==0.0.2) (1.25.2)\n",
            "Requirement already satisfied: scipy in /usr/local/lib/python3.10/dist-packages (from BLEURT==0.0.2) (1.11.4)\n",
            "Requirement already satisfied: tensorflow in /usr/local/lib/python3.10/dist-packages (from BLEURT==0.0.2) (2.15.0)\n",
            "Requirement already satisfied: tf-slim>=1.1 in /usr/local/lib/python3.10/dist-packages (from BLEURT==0.0.2) (1.1.0)\n",
            "Requirement already satisfied: sentencepiece in /usr/local/lib/python3.10/dist-packages (from BLEURT==0.0.2) (0.1.99)\n",
            "Requirement already satisfied: absl-py>=0.2.2 in /usr/local/lib/python3.10/dist-packages (from tf-slim>=1.1->BLEURT==0.0.2) (1.4.0)\n",
            "Requirement already satisfied: python-dateutil>=2.8.2 in /usr/local/lib/python3.10/dist-packages (from pandas->BLEURT==0.0.2) (2.8.2)\n",
            "Requirement already satisfied: pytz>=2020.1 in /usr/local/lib/python3.10/dist-packages (from pandas->BLEURT==0.0.2) (2023.4)\n",
            "Requirement already satisfied: tzdata>=2022.1 in /usr/local/lib/python3.10/dist-packages (from pandas->BLEURT==0.0.2) (2024.1)\n",
            "Requirement already satisfied: astunparse>=1.6.0 in /usr/local/lib/python3.10/dist-packages (from tensorflow->BLEURT==0.0.2) (1.6.3)\n",
            "Requirement already satisfied: flatbuffers>=23.5.26 in /usr/local/lib/python3.10/dist-packages (from tensorflow->BLEURT==0.0.2) (24.3.25)\n",
            "Requirement already satisfied: gast!=0.5.0,!=0.5.1,!=0.5.2,>=0.2.1 in /usr/local/lib/python3.10/dist-packages (from tensorflow->BLEURT==0.0.2) (0.5.4)\n",
            "Requirement already satisfied: google-pasta>=0.1.1 in /usr/local/lib/python3.10/dist-packages (from tensorflow->BLEURT==0.0.2) (0.2.0)\n",
            "Requirement already satisfied: h5py>=2.9.0 in /usr/local/lib/python3.10/dist-packages (from tensorflow->BLEURT==0.0.2) (3.9.0)\n",
            "Requirement already satisfied: libclang>=13.0.0 in /usr/local/lib/python3.10/dist-packages (from tensorflow->BLEURT==0.0.2) (18.1.1)\n",
            "Requirement already satisfied: ml-dtypes~=0.2.0 in /usr/local/lib/python3.10/dist-packages (from tensorflow->BLEURT==0.0.2) (0.2.0)\n",
            "Requirement already satisfied: opt-einsum>=2.3.2 in /usr/local/lib/python3.10/dist-packages (from tensorflow->BLEURT==0.0.2) (3.3.0)\n",
            "Requirement already satisfied: packaging in /usr/local/lib/python3.10/dist-packages (from tensorflow->BLEURT==0.0.2) (24.0)\n",
            "Requirement already satisfied: protobuf!=4.21.0,!=4.21.1,!=4.21.2,!=4.21.3,!=4.21.4,!=4.21.5,<5.0.0dev,>=3.20.3 in /usr/local/lib/python3.10/dist-packages (from tensorflow->BLEURT==0.0.2) (3.20.3)\n",
            "Requirement already satisfied: setuptools in /usr/local/lib/python3.10/dist-packages (from tensorflow->BLEURT==0.0.2) (67.7.2)\n",
            "Requirement already satisfied: six>=1.12.0 in /usr/local/lib/python3.10/dist-packages (from tensorflow->BLEURT==0.0.2) (1.16.0)\n",
            "Requirement already satisfied: termcolor>=1.1.0 in /usr/local/lib/python3.10/dist-packages (from tensorflow->BLEURT==0.0.2) (2.4.0)\n",
            "Requirement already satisfied: typing-extensions>=3.6.6 in /usr/local/lib/python3.10/dist-packages (from tensorflow->BLEURT==0.0.2) (4.11.0)\n",
            "Requirement already satisfied: wrapt<1.15,>=1.11.0 in /usr/local/lib/python3.10/dist-packages (from tensorflow->BLEURT==0.0.2) (1.14.1)\n",
            "Requirement already satisfied: tensorflow-io-gcs-filesystem>=0.23.1 in /usr/local/lib/python3.10/dist-packages (from tensorflow->BLEURT==0.0.2) (0.37.0)\n",
            "Requirement already satisfied: grpcio<2.0,>=1.24.3 in /usr/local/lib/python3.10/dist-packages (from tensorflow->BLEURT==0.0.2) (1.63.0)\n",
            "Requirement already satisfied: tensorboard<2.16,>=2.15 in /usr/local/lib/python3.10/dist-packages (from tensorflow->BLEURT==0.0.2) (2.15.2)\n",
            "Requirement already satisfied: tensorflow-estimator<2.16,>=2.15.0 in /usr/local/lib/python3.10/dist-packages (from tensorflow->BLEURT==0.0.2) (2.15.0)\n",
            "Requirement already satisfied: keras<2.16,>=2.15.0 in /usr/local/lib/python3.10/dist-packages (from tensorflow->BLEURT==0.0.2) (2.15.0)\n",
            "Requirement already satisfied: wheel<1.0,>=0.23.0 in /usr/local/lib/python3.10/dist-packages (from astunparse>=1.6.0->tensorflow->BLEURT==0.0.2) (0.43.0)\n",
            "Requirement already satisfied: google-auth<3,>=1.6.3 in /usr/local/lib/python3.10/dist-packages (from tensorboard<2.16,>=2.15->tensorflow->BLEURT==0.0.2) (2.27.0)\n",
            "Requirement already satisfied: google-auth-oauthlib<2,>=0.5 in /usr/local/lib/python3.10/dist-packages (from tensorboard<2.16,>=2.15->tensorflow->BLEURT==0.0.2) (1.2.0)\n",
            "Requirement already satisfied: markdown>=2.6.8 in /usr/local/lib/python3.10/dist-packages (from tensorboard<2.16,>=2.15->tensorflow->BLEURT==0.0.2) (3.6)\n",
            "Requirement already satisfied: requests<3,>=2.21.0 in /usr/local/lib/python3.10/dist-packages (from tensorboard<2.16,>=2.15->tensorflow->BLEURT==0.0.2) (2.31.0)\n",
            "Requirement already satisfied: tensorboard-data-server<0.8.0,>=0.7.0 in /usr/local/lib/python3.10/dist-packages (from tensorboard<2.16,>=2.15->tensorflow->BLEURT==0.0.2) (0.7.2)\n",
            "Requirement already satisfied: werkzeug>=1.0.1 in /usr/local/lib/python3.10/dist-packages (from tensorboard<2.16,>=2.15->tensorflow->BLEURT==0.0.2) (3.0.2)\n",
            "Requirement already satisfied: cachetools<6.0,>=2.0.0 in /usr/local/lib/python3.10/dist-packages (from google-auth<3,>=1.6.3->tensorboard<2.16,>=2.15->tensorflow->BLEURT==0.0.2) (5.3.3)\n",
            "Requirement already satisfied: pyasn1-modules>=0.2.1 in /usr/local/lib/python3.10/dist-packages (from google-auth<3,>=1.6.3->tensorboard<2.16,>=2.15->tensorflow->BLEURT==0.0.2) (0.4.0)\n",
            "Requirement already satisfied: rsa<5,>=3.1.4 in /usr/local/lib/python3.10/dist-packages (from google-auth<3,>=1.6.3->tensorboard<2.16,>=2.15->tensorflow->BLEURT==0.0.2) (4.9)\n",
            "Requirement already satisfied: requests-oauthlib>=0.7.0 in /usr/local/lib/python3.10/dist-packages (from google-auth-oauthlib<2,>=0.5->tensorboard<2.16,>=2.15->tensorflow->BLEURT==0.0.2) (1.3.1)\n",
            "Requirement already satisfied: charset-normalizer<4,>=2 in /usr/local/lib/python3.10/dist-packages (from requests<3,>=2.21.0->tensorboard<2.16,>=2.15->tensorflow->BLEURT==0.0.2) (3.3.2)\n",
            "Requirement already satisfied: idna<4,>=2.5 in /usr/local/lib/python3.10/dist-packages (from requests<3,>=2.21.0->tensorboard<2.16,>=2.15->tensorflow->BLEURT==0.0.2) (3.7)\n",
            "Requirement already satisfied: urllib3<3,>=1.21.1 in /usr/local/lib/python3.10/dist-packages (from requests<3,>=2.21.0->tensorboard<2.16,>=2.15->tensorflow->BLEURT==0.0.2) (2.0.7)\n",
            "Requirement already satisfied: certifi>=2017.4.17 in /usr/local/lib/python3.10/dist-packages (from requests<3,>=2.21.0->tensorboard<2.16,>=2.15->tensorflow->BLEURT==0.0.2) (2024.2.2)\n",
            "Requirement already satisfied: MarkupSafe>=2.1.1 in /usr/local/lib/python3.10/dist-packages (from werkzeug>=1.0.1->tensorboard<2.16,>=2.15->tensorflow->BLEURT==0.0.2) (2.1.5)\n",
            "Requirement already satisfied: pyasn1<0.7.0,>=0.4.6 in /usr/local/lib/python3.10/dist-packages (from pyasn1-modules>=0.2.1->google-auth<3,>=1.6.3->tensorboard<2.16,>=2.15->tensorflow->BLEURT==0.0.2) (0.6.0)\n",
            "Requirement already satisfied: oauthlib>=3.0.0 in /usr/local/lib/python3.10/dist-packages (from requests-oauthlib>=0.7.0->google-auth-oauthlib<2,>=0.5->tensorboard<2.16,>=2.15->tensorflow->BLEURT==0.0.2) (3.2.2)\n",
            "Building wheels for collected packages: BLEURT\n",
            "  Building wheel for BLEURT (setup.py) ... \u001b[?25l\u001b[?25hdone\n",
            "  Created wheel for BLEURT: filename=BLEURT-0.0.2-py3-none-any.whl size=16456763 sha256=158dfd4b9ee6d96ad8c3a47e05347afce8928983bd3bd01a94e0a4e1156a242d\n",
            "  Stored in directory: /tmp/pip-ephem-wheel-cache-qkbuy90p/wheels/92/4f/fb/afa555fa27aa9e2c7958df797a62cc4e74f0f459cec9c4fa7c\n",
            "Successfully built BLEURT\n",
            "Installing collected packages: BLEURT\n",
            "Successfully installed BLEURT-0.0.2\n"
          ]
        }
      ]
    },
    {
      "cell_type": "markdown",
      "source": [
        "**пара тестов для bleurt**"
      ],
      "metadata": {
        "id": "MKGcK_SP-ZJh"
      }
    },
    {
      "cell_type": "code",
      "source": [
        "from bleurt import score\n",
        "\n",
        "def candidate_score(reference, candidate):\n",
        "\n",
        "  checkpoint = \"bleurt/test_checkpoint\"\n",
        "  references = [reference]\n",
        "  candidates = [candidate]\n",
        "\n",
        "  scorer = score.BleurtScorer(checkpoint)\n",
        "  scores = scorer.score(references=references, candidates=candidates)\n",
        "  assert isinstance(scores, list) and len(scores) == 1\n",
        "\n",
        "  return scores\n",
        "\n",
        "ref = \"твоя моя давать задания\"\n",
        "candidate_list = [\n",
        "  \"Ты должен дать мне свои задания\", #true\n",
        "  \"Я даю тебе свои задания\",\n",
        "  \"Я даю тебе мои задания\",\n",
        "  \"Я должен дать тебе мои задания\",\n",
        "  \"Ты должен дать мне мои задания\",\n",
        "]\n",
        "\n",
        "print(\"========================\")\n",
        "print(f\"REFERENCE : {ref}\")\n",
        "for candidate in candidate_list:\n",
        "  print(f\"{candidate} : {candidate_score(ref, candidate)}\")\n",
        "\n",
        "ref = \"я грзин , я ни говорить по рузки\"\n",
        "candidate_list = [\n",
        "\t\"Я грузин, я не говорю по-русски.\", #true\n",
        "\t\"Я грузин, я ни говорить по-русски.\",\n",
        "\t\"Я грузин, я ни говорю по-русски.\",\n",
        "\t\"Я грузин, я не говорю по-русски.\",\n",
        "\t\"Я грузин, я ни говорю по-русски.\",\n",
        "]\n",
        "\n",
        "print(\"========================\")\n",
        "print(f\"REFERENCE : {ref}\")\n",
        "for candidate in candidate_list:\n",
        "  print(f\"{candidate} : {candidate_score(ref, candidate)}\")\n"
      ],
      "metadata": {
        "colab": {
          "base_uri": "https://localhost:8080/"
        },
        "id": "gihfAiMMjn3a",
        "outputId": "26f531be-3895-4c37-99cb-dbeca4ca122d"
      },
      "execution_count": null,
      "outputs": [
        {
          "output_type": "stream",
          "name": "stdout",
          "text": [
            "========================\n",
            "REFERENCE : твоя моя давать задания\n",
            "Ты должен дать мне свои задания : [0.5622445940971375]\n",
            "Я даю тебе свои задания : [0.31740158796310425]\n",
            "Я даю тебе мои задания : [0.2844545245170593]\n",
            "Я должен дать тебе мои задания : [0.374971479177475]\n",
            "Ты должен дать мне мои задания : [0.4611471891403198]\n",
            "========================\n",
            "REFERENCE : я грзин , я ни говорить по рузки\n",
            "Я грузин, я не говорю по-русски. : [0.6609145998954773]\n",
            "Я грузин, я ни говорить по-русски. : [0.8238028287887573]\n",
            "Я грузин, я ни говорю по-русски. : [0.6871737837791443]\n",
            "Я грузин, я не говорю по-русски. : [0.6609145998954773]\n",
            "Я грузин, я ни говорю по-русски. : [0.6871737837791443]\n"
          ]
        }
      ]
    },
    {
      "cell_type": "markdown",
      "source": [
        "**проверка многопоточности :)**\n",
        "на cpu нет смысла.\n",
        "на gpu быстрее.\n"
      ],
      "metadata": {
        "id": "s8tbFB6y-OyJ"
      }
    },
    {
      "cell_type": "code",
      "source": [
        "from bleurt import score\n",
        "import concurrent.futures\n",
        "import time\n",
        "\n",
        "def candidate_score(reference, candidate):\n",
        "\n",
        "  checkpoint = \"bleurt/test_checkpoint\"\n",
        "  references = [reference]\n",
        "  candidates = [candidate]\n",
        "\n",
        "  scorer = score.BleurtScorer(checkpoint)\n",
        "  scores = scorer.score(references=references, candidates=candidates)\n",
        "  assert isinstance(scores, list) and len(scores) == 1\n",
        "\n",
        "  return f\"{candidate} : {scores}\"\n",
        "\n",
        "def threaded_execution(ref, candidate_list, max_workers=5):\n",
        "  print(\"running threaded:\")\n",
        "  threaded_start = time.time()\n",
        "  with concurrent.futures.ThreadPoolExecutor(max_workers=max_workers) as executor:\n",
        "    futures = []\n",
        "    for candidate in candidate_list:\n",
        "      futures.append(executor.submit(candidate_score, reference=ref,\n",
        "                                    candidate=candidate))\n",
        "    for future in concurrent.futures.as_completed(futures):\n",
        "      print(future.result())\n",
        "\n",
        "  print(\"threaded time:\", time.time() - threaded_start)\n",
        "\n",
        "ref = \"твоя моя давать задания\"\n",
        "candidate_list = [\n",
        "  \"Ты должен дать мне свои задания\", #true\n",
        "  \"Я даю тебе свои задания\",\n",
        "  \"Я даю тебе мои задания\",\n",
        "  \"Я должен дать тебе мои задания\",\n",
        "  \"Ты должен дать мне мои задания\",\n",
        "]\n",
        "\n",
        "print(\"==========================\")\n",
        "print(f\"REFERENCE: {ref}\")\n",
        "threaded_execution(ref, candidate_list)\n",
        "\n",
        "ref = \"я грзин , я ни говорить по рузки\"\n",
        "candidate_list = [\n",
        "\t\"Я грузин, я не говорю по-русски.\", #true\n",
        "\t\"Я грузин, я ни говорить по-русски.\",\n",
        "\t\"Я грузин, я ни говорю по-русски.\",\n",
        "\t\"Я грузин, я не говорю по-русски.\",\n",
        "\t\"Я грузин, я ни говорю по-русски.\",\n",
        "]\n",
        "\n",
        "print(\"==========================\")\n",
        "print(f\"REFERENCE: {ref}\")\n",
        "threaded_execution(ref, candidate_list)\n"
      ],
      "metadata": {
        "id": "79tH0LM32Ga2",
        "colab": {
          "base_uri": "https://localhost:8080/"
        },
        "outputId": "4ce5aacd-92c3-495d-d1ae-7a9fea9b3a3f"
      },
      "execution_count": null,
      "outputs": [
        {
          "output_type": "stream",
          "name": "stdout",
          "text": [
            "==========================\n",
            "REFERENCE: твоя моя давать задания\n",
            "running threaded:\n",
            "Ты должен дать мне свои задания : [0.5622445940971375]\n",
            "Ты должен дать мне мои задания : [0.4611471891403198]\n",
            "Я даю тебе свои задания : [0.31740158796310425]\n",
            "Я должен дать тебе мои задания : [0.374971479177475]\n",
            "Я даю тебе мои задания : [0.2844545245170593]\n",
            "threaded time: 4.271783828735352\n",
            "==========================\n",
            "REFERENCE: я грзин , я ни говорить по рузки\n",
            "running threaded:\n",
            "Я грузин, я не говорю по-русски. : [0.6609145998954773]\n",
            "Я грузин, я ни говорю по-русски. : [0.6871737837791443]\n",
            "Я грузин, я не говорю по-русски. : [0.6609145998954773]\n",
            "Я грузин, я ни говорю по-русски. : [0.6871737837791443]\n",
            "Я грузин, я ни говорить по-русски. : [0.8238028287887573]\n",
            "threaded time: 4.719408750534058\n"
          ]
        }
      ]
    }
  ]
}